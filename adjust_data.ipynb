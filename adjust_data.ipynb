{
 "cells": [
  {
   "cell_type": "markdown",
   "id": "03103f32",
   "metadata": {},
   "source": [
    "# Introdução"
   ]
  },
  {
   "cell_type": "code",
   "execution_count": null,
   "id": "07b051c5",
   "metadata": {
    "pycharm": {
     "name": "#%%\n"
    }
   },
   "outputs": [],
   "source": [
    "import os\n",
    "import glob\n",
    "import pandas as pd"
   ]
  },
  {
   "cell_type": "markdown",
   "id": "415f7e74",
   "metadata": {},
   "source": [
    "## Pontos de Monitoramento\n",
    "\n",
    "A partir da lista dos pontos de monitoramento, é possível extraír a primeira letra de cada um dos pontos demonitoramento.\n",
    "\n",
    "A partir dessa lista, é possível iterar e obter tudo."
   ]
  },
  {
   "cell_type": "code",
   "execution_count": null,
   "id": "a0d0b4d2",
   "metadata": {
    "pycharm": {
     "name": "#%%\n"
    }
   },
   "outputs": [],
   "source": [
    "# Tabela Pontos de Monitoramento\n",
    "df = pd.read_csv(\n",
    "    os.path.join('data', 'tab_pontos_monitoramento.csv'),\n",
    ")\n",
    "\n",
    "# Results\n",
    "df.head()"
   ]
  },
  {
   "cell_type": "code",
   "execution_count": null,
   "id": "68099f3b",
   "metadata": {
    "pycharm": {
     "name": "#%%\n"
    }
   },
   "outputs": [],
   "source": [
    "list_letter = list(set(df['Cód.Ponto'].astype(str).str[0]))\n",
    "list_letter.sort()\n",
    "list_letter"
   ]
  },
  {
   "cell_type": "code",
   "execution_count": null,
   "id": "a44f0210",
   "metadata": {
    "pycharm": {
     "name": "#%%\n"
    }
   },
   "outputs": [],
   "source": [
    "# Filter\n",
    "#list_letter = list_letter[5:6]\n",
    "list_letter"
   ]
  },
  {
   "cell_type": "markdown",
   "id": "1cd9b294",
   "metadata": {},
   "source": [
    "## Merge Data"
   ]
  },
  {
   "cell_type": "code",
   "execution_count": null,
   "id": "12865401",
   "metadata": {
    "pycharm": {
     "name": "#%%\n"
    }
   },
   "outputs": [],
   "source": [
    "all_data = pd.DataFrame()\n",
    "for letter in list_letter:\n",
    "    for f in glob.glob(os.path.join(os.getcwd(), 'data', letter, '*.xlsx')):\n",
    "        try:\n",
    "            print(f)\n",
    "            df = pd.read_excel(f)\n",
    "            all_data = all_data.append(df, ignore_index=True)\n",
    "        except OSError as e:\n",
    "            print(e)\n",
    "\n",
    "# Results\n",
    "df = all_data\n",
    "df.head()"
   ]
  },
  {
   "cell_type": "markdown",
   "id": "f0901d04",
   "metadata": {},
   "source": [
    "<br>\n",
    "\n",
    "## Rename Columns"
   ]
  },
  {
   "cell_type": "code",
   "execution_count": null,
   "id": "e91b86e9",
   "metadata": {
    "pycharm": {
     "name": "#%%\n"
    }
   },
   "outputs": [],
   "source": [
    "# Dictonary to Rename\n",
    "dict_columns = {\n",
    "    'Código Ponto'           : 'cod_ponto',\n",
    "    'Cod_Interaguas'         : 'cod_interaguas',\n",
    "    'Tipo Rede'              : 'tipo_rede',\n",
    "    'Status Ponto'           : 'status_ponto',\n",
    "    'Data Coleta'            : 'data_coleta',\n",
    "    'Hora Coleta'            : 'hora_coleta',\n",
    "    'Parametro'              : 'parametro',\n",
    "    'Sinal'                  : 'sinal',\n",
    "    'Valor'                  : 'valor',\n",
    "    'Unidade'                : 'unidade',\n",
    "    'Tipo Parâmetro'         : 'tipo_parametro',\n",
    "    'Sistema Hídrico'        : 'sistema_hidrico',\n",
    "    'Tipo de Sistema Hídrico': 'sistema_hidrico_tipo',\n",
    "    'CLASSE'                 : 'classe',\n",
    "    'Inicio Operação'        : 'data_inicio_operacao',\n",
    "    'Fim Operação'           : 'data_fim_operacao',\n",
    "    'Período DE'             : 'data_inicio_query',\n",
    "    'Período ATE'            : 'data_fim_query',\n",
    "    'Latitude'               : 'latitude_dms',\n",
    "    'Longitude'              : 'longitude_dms',\n",
    "    'Altitude'               : 'altitude',\n",
    "    'Localização'            : 'localizacao',\n",
    "    'Captação'               : 'captacao',\n",
    "    'Município'              : 'municipio',\n",
    "    'UF'                     : 'estado',\n",
    "    'UGRHI'                  : 'ugrhi',\n",
    "}\n",
    "\n",
    "# Rename e Reorder\n",
    "df = df.rename(columns=dict_columns)\n",
    "df = df[[v for k, v in dict_columns.items()]]\n",
    "\n",
    "# Columns\n",
    "print(list(df.columns))\n",
    "\n",
    "# Results\n",
    "df.head()"
   ]
  },
  {
   "cell_type": "markdown",
   "id": "a3c551d6",
   "metadata": {},
   "source": [
    "## Ajusta Datas"
   ]
  },
  {
   "cell_type": "code",
   "execution_count": null,
   "id": "57cf81c1",
   "metadata": {
    "pycharm": {
     "name": "#%%\n"
    }
   },
   "outputs": [],
   "source": [
    "# Ajuste Dates\n",
    "df['data_coleta']          = pd.to_datetime(df['data_coleta'], format='%d/%m/%Y')\n",
    "df['hora_coleta']          = pd.to_datetime(df['hora_coleta'], format='%H:%M').dt.time\n",
    "df['data_inicio_operacao'] = pd.to_datetime(df['data_inicio_operacao'], format='%d/%m/%Y')\n",
    "df['data_fim_operacao']    = pd.to_datetime(df['data_fim_operacao'], format='%d/%m/%Y')\n",
    "df['data_inicio_query']    = pd.to_datetime(df['data_inicio_query'], format='%d/%m/%Y')\n",
    "df['data_fim_query']       = pd.to_datetime(df['data_fim_query'], format='%d/%m/%Y')"
   ]
  },
  {
   "cell_type": "markdown",
   "id": "d4ea877b",
   "metadata": {},
   "source": [
    "## Ajusta Coordenadas"
   ]
  },
  {
   "cell_type": "code",
   "execution_count": null,
   "id": "3d7bb6eb",
   "metadata": {
    "pycharm": {
     "name": "#%%\n"
    }
   },
   "outputs": [],
   "source": [
    "def dms2dd(coord_dms):\n",
    "    coord_dms = coord_dms.strip()\n",
    "    try:\n",
    "        coord_deg = float(coord_dms.split(' ', maxsplit=2)[0])\n",
    "        coord_min = float(coord_dms.split(' ', maxsplit=2)[1])\n",
    "        coord_sec = float(coord_dms.split(' ', maxsplit=2)[2])\n",
    "        coord_dd = coord_deg + (coord_min/60) + (coord_sec/3600)\n",
    "        coord_dd = coord_dd * -1\n",
    "    except:\n",
    "        coord_dd = 0\n",
    "    return coord_dd\n",
    "\n",
    "dms2dd('22 13 52')"
   ]
  },
  {
   "cell_type": "code",
   "execution_count": null,
   "id": "bee1e2fa",
   "metadata": {
    "pycharm": {
     "name": "#%%\n"
    }
   },
   "outputs": [],
   "source": [
    "# Coordenadas\n",
    "df.loc[:, 'latitude_dd'] = df['latitude_dms'].astype(str).apply(lambda x: dms2dd(x))\n",
    "df.loc[:, 'longitude_dd'] = df['longitude_dms'].astype(str).apply(lambda x: dms2dd(x))"
   ]
  },
  {
   "cell_type": "markdown",
   "id": "5d2d0674",
   "metadata": {},
   "source": [
    "## Resultados"
   ]
  },
  {
   "cell_type": "code",
   "execution_count": null,
   "id": "fd656e38",
   "metadata": {
    "pycharm": {
     "name": "#%%\n"
    }
   },
   "outputs": [],
   "source": [
    "# Export\n",
    "df.to_csv(\n",
    "    os.path.join('data', 'tab_analises.csv'),\n",
    "    index=False,\n",
    ")"
   ]
  }
 ],
 "metadata": {
  "interpreter": {
   "hash": "d4181b5ba52a8e4a66a816197e9f0b08db8a6f69ae1df649a595f0f30665110e"
  },
  "kernelspec": {
   "display_name": "Python 3.8.11 64-bit ('pablocarreira-py38': conda)",
   "name": "python3"
  },
  "language_info": {
   "codemirror_mode": {
    "name": "ipython",
    "version": 3
   },
   "file_extension": ".py",
   "mimetype": "text/x-python",
   "name": "python",
   "nbconvert_exporter": "python",
   "pygments_lexer": "ipython3",
   "version": "3.8.11"
  },
  "toc-autonumbering": true
 },
 "nbformat": 4,
 "nbformat_minor": 5
}

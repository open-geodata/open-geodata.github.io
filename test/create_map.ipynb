{
 "cells": [
  {
   "cell_type": "markdown",
   "metadata": {
    "pycharm": {
     "name": "#%% md\n"
    }
   },
   "source": [
    "<br>\n",
    "\n",
    "# Introdução"
   ]
  },
  {
   "cell_type": "code",
   "execution_count": null,
   "metadata": {
    "collapsed": false,
    "jupyter": {
     "outputs_hidden": false
    },
    "pycharm": {
     "name": "#%%\n"
    }
   },
   "outputs": [],
   "source": [
    "import os\n",
    "import folium\n",
    "import pandas as pd\n",
    "import seaborn as sns\n",
    "import geopandas as gpd\n",
    "from folium import plugins\n",
    "#from folium.plugins import FastMarkerCluster\n",
    "from shapely.geometry import Point"
   ]
  },
  {
   "cell_type": "markdown",
   "metadata": {},
   "source": [
    "<br>\n",
    "\n",
    "## Dataframe"
   ]
  },
  {
   "cell_type": "code",
   "execution_count": null,
   "metadata": {
    "collapsed": false,
    "jupyter": {
     "outputs_hidden": false
    },
    "pycharm": {
     "name": "#%%\n"
    }
   },
   "outputs": [],
   "source": [
    "# Tabela Pontos de Monitoramento\n",
    "df = pd.read_csv(\n",
    "    os.path.join('..', 'data', 'tab_pontos_monitoramento_amostras.csv'),\n",
    ")\n",
    "\n",
    "# Seleciona os que tem coordenadas\n",
    "df = df[(df['tem_coordenadas'] == 0)]\n",
    "\n",
    "# E que são diferentes de zero!\n",
    "#df = df[(df['latitude_dd'] != 0)]\n",
    "#df = df[(df['longitude_dd'] != 0)]\n",
    "\n",
    "# Results\n",
    "print('{} pontos\\n'.format(len(df)))\n",
    "print(df.dtypes)\n",
    "df.head(2)"
   ]
  },
  {
   "cell_type": "markdown",
   "metadata": {},
   "source": [
    "<br>\n",
    "\n",
    "## Geojson"
   ]
  },
  {
   "cell_type": "code",
   "execution_count": null,
   "metadata": {
    "collapsed": false,
    "jupyter": {
     "outputs_hidden": false
    },
    "pycharm": {
     "name": "#%%\n"
    }
   },
   "outputs": [],
   "source": [
    "# Create Geometry\n",
    "geometry = [Point(xy) for xy in zip(df['longitude_dd'], df['latitude_dd'])]\n",
    "\n",
    "# Create Geodataframe\n",
    "gdf = gpd.GeoDataFrame(\n",
    "    df,\n",
    "    crs='EPSG:4326',\n",
    "    geometry=geometry\n",
    ")\n",
    "\n",
    "# Save\n",
    "output_path = os.path.join('..', 'data', 'geo')\n",
    "os.makedirs(output_path, exist_ok=True)\n",
    "gdf.to_file(os.path.join(output_path, 'ptos_monitoramento.geojson'), driver='GeoJSON')\n",
    "gdf.head(2)"
   ]
  },
  {
   "cell_type": "markdown",
   "metadata": {},
   "source": [
    "<br>\n",
    "\n",
    "# Layers"
   ]
  },
  {
   "cell_type": "markdown",
   "metadata": {},
   "source": [
    "<br>\n",
    "\n",
    "## Pontos de Monitoramento"
   ]
  },
  {
   "cell_type": "code",
   "execution_count": null,
   "metadata": {},
   "outputs": [],
   "source": [
    "def add_lyr_ptos_monitoramento():\n",
    "    # Input\n",
    "    gdf = gpd.read_file(os.path.join('..', 'data', 'geo', 'ptos_monitoramento.geojson'))\n",
    "    gdf = gdf.to_crs(epsg=4326)\n",
    "    \n",
    "    # Popup\n",
    "    #gdf['popup'] = gdf.apply(popup_html_est_aut_empresas, axis=1)\n",
    "\n",
    "    # Layer\n",
    "    lyr = folium.GeoJson(\n",
    "        gdf,\n",
    "        name='CETESB - Pontos Monitoramento',\n",
    "        smooth_factor=1.0,\n",
    "        style_function=lambda x: {\n",
    "            'fillColor': '#DC143C',\n",
    "            'color': '#DC143C',\n",
    "            'weight': 1,\n",
    "            'fillOpacity': 0.3,\n",
    "        },\n",
    "        highlight_function=lambda x: {\n",
    "            'weight': 3,\n",
    "            'fillOpacity': 0.6,\n",
    "        },\n",
    "        # popup=folium.GeoJsonPopup(\n",
    "        #     ['popup'],\n",
    "        #     parse_html=False,\n",
    "        #     max_width='400',\n",
    "        #     show=False,\n",
    "        #     labels=False,\n",
    "        #     sticky=True,            \n",
    "        # ),\n",
    "        marker=folium.Marker(\n",
    "            icon=folium.Icon(\n",
    "                color='lightgray',\n",
    "                icon_color='#FFFF00',\n",
    "                #icon='leaf',\n",
    "            ),\n",
    "        ),\n",
    "        tooltip=folium.GeoJsonTooltip(\n",
    "            fields=['cod_ponto'],\n",
    "            aliases=['Ponto'],\n",
    "            sticky=True,\n",
    "            opacity=0.9,\n",
    "            direction='right',\n",
    "        ),\n",
    "        embed=False,\n",
    "        zoom_on_click=False,\n",
    "        control=True,\n",
    "        show=True,\n",
    "    )\n",
    "    return lyr\n",
    "\n",
    "\n",
    "# PopUp\n",
    "def popup_html_est_aut_empresas(row):\n",
    "    # Data\n",
    "    nome = row['Nome']\n",
    "    posto = row['Posto']\n",
    "    url_1 = row['url']\n",
    "    url_2 = row['url_mapa']\n",
    "    url_3 = row['url_infoposto']\n",
    "\t\n",
    "    # Infos\n",
    "    popup = \"\"\"\n",
    "    <div>\n",
    "    <h5>{}</h5>\n",
    "    <br>Posto: <b>{}</b>\n",
    "    <br><a href=\"{}\" target=\"_blank\">url - dados</a></b>\n",
    "    <br><a href=\"{}\" target=\"_blank\">url - mapa</a></b>\n",
    "    <br><a href=\"{}\" target=\"_blank\">url - infoposto</a></b>\n",
    "    </div>\n",
    "    \"\"\".format(nome, posto, url_1, url_2, url_3)\n",
    "    return popup"
   ]
  },
  {
   "cell_type": "markdown",
   "metadata": {},
   "source": [
    "<br>\n",
    "\n",
    "## Basemaps"
   ]
  },
  {
   "cell_type": "code",
   "execution_count": null,
   "metadata": {},
   "outputs": [],
   "source": [
    "def add_lyr_google_streets(min_zoom, max_zoom):\n",
    "    row={\n",
    "        'link': 'https://mt1.google.com/vt/lyrs=m&x={x}&y={y}&z={z}',\n",
    "        'name': 'Google Streets',\n",
    "        'attribution': 'https://www.google.com/maps',\n",
    "    }\n",
    "    lyr = folium.TileLayer(\n",
    "        tiles=row['link'],\n",
    "        attr=('<a href=\"{}\" target=\"blank\">{}</a>'.format(row['attribution'], row['name'])),\n",
    "        name=row['name'],\n",
    "        min_zoom=min_zoom,\n",
    "        max_zoom=max_zoom,\n",
    "        subdomains=['mt0','mt1','mt2','mt3'],\n",
    "        overlay=False,\n",
    "        control=True,\n",
    "        show=False,\n",
    "    )\n",
    "    return lyr"
   ]
  },
  {
   "cell_type": "code",
   "execution_count": null,
   "metadata": {},
   "outputs": [],
   "source": [
    "def add_lyr_google_terrain(min_zoom, max_zoom):\n",
    "    row={\n",
    "        'link': 'https://mt1.google.com/vt/lyrs=p&x={x}&y={y}&z={z}',\n",
    "        'name': 'Google Terrain',\n",
    "        'attribution': 'https://www.google.com/maps',\n",
    "    }\n",
    "    lyr = folium.TileLayer(\n",
    "        tiles=row['link'],\n",
    "        attr=('<a href=\"{}\" target=\"blank\">{}</a>'.format(row['attribution'], row['name'])),\n",
    "        name=row['name'],\n",
    "        min_zoom=min_zoom,\n",
    "        max_zoom=max_zoom,\n",
    "        subdomains=['mt0','mt1','mt2','mt3'],\n",
    "        overlay=False,\n",
    "        control=True,\n",
    "        show=False,\n",
    "    )\n",
    "    return lyr"
   ]
  },
  {
   "cell_type": "code",
   "execution_count": null,
   "metadata": {},
   "outputs": [],
   "source": [
    "def add_lyr_google_hybrid(min_zoom, max_zoom):\n",
    "    row={\n",
    "        'link': 'https://mt1.google.com/vt/lyrs=y&x={x}&y={y}&z={z}',\n",
    "        'name': 'Google Hybrid',\n",
    "        'attribution': 'https://www.google.com/maps',\n",
    "    }\n",
    "    lyr = folium.TileLayer(\n",
    "        tiles=row['link'],\n",
    "        attr=('<a href=\"{}\" target=\"blank\">{}</a>'.format(row['attribution'], row['name'])),\n",
    "        name=row['name'],\n",
    "        min_zoom=min_zoom,\n",
    "        max_zoom=max_zoom,\n",
    "        subdomains=['mt0','mt1','mt2','mt3'],\n",
    "        overlay=False,\n",
    "        control=True,\n",
    "        show=True,\n",
    "    )\n",
    "    return lyr"
   ]
  },
  {
   "cell_type": "code",
   "execution_count": null,
   "metadata": {},
   "outputs": [],
   "source": [
    "def add_lyr_google_satelite(min_zoom, max_zoom):\n",
    "    row={\n",
    "        'link': 'https://mt1.google.com/vt/lyrs=s&x={x}&y={y}&z={z}',\n",
    "        'name': 'Google Satelite',\n",
    "        'attribution': 'https://www.google.com/maps',\n",
    "    }\n",
    "    lyr = folium.TileLayer(\n",
    "        tiles=row['link'],\n",
    "        attr=('<a href=\"{}\" target=\"blank\">{}</a>'.format(row['attribution'], row['name'])),\n",
    "        name=row['name'],\n",
    "        min_zoom=min_zoom,\n",
    "        max_zoom=max_zoom,\n",
    "        subdomains=['mt0','mt1','mt2','mt3'],\n",
    "        overlay=False,\n",
    "        control=True,\n",
    "        show=False,\n",
    "    )\n",
    "    return lyr"
   ]
  },
  {
   "cell_type": "markdown",
   "metadata": {},
   "source": [
    "<br>\n",
    "\n",
    "# Mapa"
   ]
  },
  {
   "cell_type": "code",
   "execution_count": null,
   "metadata": {},
   "outputs": [],
   "source": [
    "# Output Path\n",
    "output_path = os.path.join('..', 'maps')\n",
    "os.makedirs(output_path, exist_ok=True)"
   ]
  },
  {
   "cell_type": "markdown",
   "metadata": {},
   "source": [
    "<br>\n",
    "\n",
    "## Função"
   ]
  },
  {
   "cell_type": "code",
   "execution_count": null,
   "metadata": {},
   "outputs": [],
   "source": [
    "def get_map(input_geojson):\n",
    "    # Input\n",
    "    gdf = gpd.read_file(input_geojson)\n",
    "    gdf = gdf.to_crs(epsg=4326)\n",
    "    sw = gdf.bounds[['miny', 'minx']].min().values.tolist()\n",
    "    ne = gdf.bounds[['maxy', 'maxx']].max().values.tolist()\n",
    "    bounds = [sw, ne]\n",
    "    \n",
    "    # Zoom\n",
    "    min_zoom = 8\n",
    "    max_zoom = 21\n",
    "    padding = 1\n",
    "    \n",
    "    # Create Map\n",
    "    m = folium.Map(\n",
    "        min_zoom=min_zoom,\n",
    "        max_zoom=max_zoom,\n",
    "        max_bounds=True,\n",
    "        min_lat=bounds[0][0]*((100+padding)/100),\n",
    "        min_lon=bounds[0][1]*((100+padding)/100),\n",
    "        max_lat=bounds[1][0]*((100-padding)/100),\n",
    "        max_lon=bounds[1][1]*((100-padding)/100),\n",
    "        tiles=None,\n",
    "        # zoom_delta=0.1,\n",
    "        # zoom_start=10,\n",
    "    )\n",
    "    \n",
    "    # Add Layers\n",
    "    m.add_child(add_lyr_google_terrain(min_zoom, max_zoom))\n",
    "    m.add_child(add_lyr_google_hybrid(min_zoom, max_zoom))\n",
    "    m.add_child(add_lyr_google_streets(min_zoom, max_zoom))\n",
    "    m.add_child(add_lyr_google_satelite(min_zoom, max_zoom))\n",
    "\n",
    "    # Monitoramento\n",
    "    m.add_child(add_lyr_ptos_monitoramento())\n",
    "    #m.add_child(add_lyr_etes())\n",
    "    #m.add_child(add_lyr_est_aut_empresas())\n",
    "\n",
    "    # Bacse PCJ\n",
    "    #m.add_child(add_lyr_municipios_pcj(base_pcj_path))\n",
    "    #m.add_child(add_lyr_bacias_pcj(base_pcj_path))    \n",
    "    \n",
    "    #feature_group = folium.FeatureGroup('Hidrografia')\n",
    "    #feature_group.add_child(add_lyr_hidrografia_principal(base_pcj_path))\n",
    "    #feature_group.add_child(add_lyr_represas_secundarias(base_pcj_path)) \n",
    "    #feature_group.add_child(add_lyr_represas_principais(base_pcj_path))\n",
    "    #feature_group.add_to(m)\n",
    "\n",
    "    # Plugins\n",
    "    m.fit_bounds(bounds)\n",
    "    plugins.Fullscreen(\n",
    "        position='topleft',\n",
    "        title='Clique para Maximizar',\n",
    "        title_cancel='Mininizar',\n",
    "    ).add_to(m)\n",
    "    folium.LayerControl(\n",
    "        position='topright',\n",
    "        collapsed=False,\n",
    "    ).add_to(m)\n",
    "    return m"
   ]
  },
  {
   "cell_type": "code",
   "execution_count": null,
   "metadata": {},
   "outputs": [],
   "source": [
    "# Create Maps\n",
    "m = get_map(os.path.join('..', 'data', 'geo', 'ptos_monitoramento.geojson'))\n",
    "\n",
    "# Save\n",
    "m.save(os.path.join(output_path, 'map.html'))\n",
    "m.save(os.path.join(os.path.expanduser('~/Documents/Sourcecode'), 'gitpages', 'open-geodata.github.io', 'assets', 'maps', 'map_infoaguas.html'))\n",
    "\n",
    "# Results\n",
    "m"
   ]
  },
  {
   "cell_type": "markdown",
   "metadata": {},
   "source": [
    "<br>\n",
    "\n",
    "## Cluster"
   ]
  },
  {
   "cell_type": "code",
   "execution_count": null,
   "metadata": {},
   "outputs": [],
   "source": [
    "# Input\n",
    "input_geojson = os.path.join('..', 'data', 'geo', 'ptos_monitoramento.geojson')\n",
    "gdf = gpd.read_file(input_geojson)\n",
    "gdf = gdf.to_crs(epsg=4326)\n",
    "sw = gdf.bounds[['miny', 'minx']].min().values.tolist()\n",
    "ne = gdf.bounds[['maxy', 'maxx']].max().values.tolist()\n",
    "bounds = [sw, ne]"
   ]
  },
  {
   "cell_type": "code",
   "execution_count": null,
   "metadata": {
    "collapsed": false,
    "jupyter": {
     "outputs_hidden": false
    },
    "pycharm": {
     "name": "#%%\n"
    }
   },
   "outputs": [],
   "source": [
    "# Cria o mapa\n",
    "m = folium.Map(\n",
    "    location=[-23.9619271,-46.3427499],\n",
    "    zoom_start=12,\n",
    ")\n",
    "\n",
    "# Callbacks\n",
    "callback = \"\"\"\n",
    "    function (row) {\n",
    "    var marker = L.marker(new L.LatLng(row[0], row[1]), {color: \"red\"});\n",
    "\n",
    "    // Icon\n",
    "    var icon = L.AwesomeMarkers.icon({\n",
    "    icon: 'info-sign',\n",
    "    iconColor: 'white',\n",
    "    markerColor: 'green',\n",
    "    prefix: 'glyphicon',\n",
    "    extraClasses: 'fa-rotate-0'});\n",
    "    \n",
    "    // Popup\n",
    "    const display_text = {text: row[2]};\n",
    "    var mytext = $(`<div id='mytext' class='display_text' style='width: 100.0%; height: 100.0%;'>${display_text.text}</div>`)[0];\n",
    "    var popup = L.popup({maxWidth: '300'});\n",
    "    popup.setContent(mytext);\n",
    "    marker.bindPopup(popup);\n",
    "    \n",
    "    // Hover\n",
    "    marker.bindPopup(row[2]);\n",
    "    marker.on('mouseover', function (e) {\n",
    "        this.openPopup();\n",
    "    });\n",
    "    marker.on('mouseout', function (e) {\n",
    "        this.closePopup();\n",
    "    });    \n",
    "    \n",
    "    // Results\n",
    "    return marker\n",
    "    };\n",
    "\"\"\"\n",
    "\n",
    "# dddd\n",
    "plugins.FastMarkerCluster(\n",
    "    df[['latitude_dd', 'longitude_dd', 'cod_ponto']].values.tolist(),\n",
    "    callback=callback,\n",
    "    name='Pontos de Monitoramento',\n",
    ").add_to(m)\n",
    "\n",
    "# Plugins\n",
    "m.fit_bounds(bounds)\n",
    "plugins.Fullscreen(\n",
    "    position='topleft',\n",
    "    title='Clique para Maximizar',\n",
    "    title_cancel='Mininizar',\n",
    ").add_to(m)\n",
    "folium.LayerControl(\n",
    "    position='topright',\n",
    "    collapsed=False,\n",
    ").add_to(m)\n",
    "\n",
    "# Results\n",
    "m.save(os.path.join(output_path, 'map_cluster.html'))\n",
    "m.save(os.path.join(os.path.expanduser('~/Documents/Sourcecode'), 'gitpages', 'open-geodata.github.io', 'assets', 'maps', 'map_infoaguas_cluster.html'))\n",
    "\n",
    "m"
   ]
  },
  {
   "cell_type": "markdown",
   "metadata": {},
   "source": [
    "<br>\n",
    "\n",
    "## Single"
   ]
  },
  {
   "cell_type": "code",
   "execution_count": null,
   "metadata": {
    "collapsed": false,
    "jupyter": {
     "outputs_hidden": false
    },
    "pycharm": {
     "name": "#%%\n"
    }
   },
   "outputs": [],
   "source": [
    "# Cria o mapa\n",
    "m = folium.Map(\n",
    "    location=[-23.9619271,-46.3427499],\n",
    "    zoom_start=12,\n",
    "    #width=767,\n",
    "    #height=460,\n",
    ")\n",
    "\n",
    "# Adiciona as diferentes empresas com cores por bairros\n",
    "for index, row in df.iterrows():\n",
    "    #if row['sistema_hidrico'] in colors.keys():\n",
    "    folium.Marker(\n",
    "        location=[row['latitude_dd'], row['longitude_dd']],\n",
    "        #popup=row['sistema_hidrico'],\n",
    "        #tooltip=row['localizacao'],\n",
    "        #icon=folium.Icon(color=colors[row[col_categories]], icon='leaf')\n",
    "    ).add_to(m)\n",
    "\n",
    "# Results\n",
    "m.save(os.path.join(output_path, 'map_single.html'))\n",
    "m"
   ]
  },
  {
   "cell_type": "code",
   "execution_count": null,
   "metadata": {},
   "outputs": [],
   "source": []
  }
 ],
 "metadata": {
  "interpreter": {
   "hash": "9ff1310743fb78083e61eda919b1855ced787e7556b2d9e40aa50770053af88d"
  },
  "kernelspec": {
   "display_name": "Python 3 (ipykernel)",
   "language": "python",
   "name": "python3"
  },
  "language_info": {
   "codemirror_mode": {
    "name": "ipython",
    "version": 3
   },
   "file_extension": ".py",
   "mimetype": "text/x-python",
   "name": "python",
   "nbconvert_exporter": "python",
   "pygments_lexer": "ipython3",
   "version": "3.9.7"
  },
  "pycharm": {
   "stem_cell": {
    "cell_type": "raw",
    "metadata": {
     "collapsed": false
    },
    "source": [
     "\n"
    ]
   }
  },
  "toc-autonumbering": true
 },
 "nbformat": 4,
 "nbformat_minor": 4
}

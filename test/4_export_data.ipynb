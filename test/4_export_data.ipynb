{
 "cells": [
  {
   "cell_type": "markdown",
   "id": "2cf6d73c-6dbb-441d-aa06-1daf7fe646ad",
   "metadata": {},
   "source": [
    "<br>\n",
    "\n",
    "# Introdução"
   ]
  },
  {
   "cell_type": "code",
   "execution_count": 24,
   "id": "d45fba69-3d14-4ccb-b34b-6ecddfc686ff",
   "metadata": {},
   "outputs": [],
   "source": [
    "import os\n",
    "import time\n",
    "import ctypes\n",
    "import datetime\n",
    "import numpy as np\n",
    "import pandas as pd\n",
    "import dask.dataframe as dd\n",
    "import pyarrow.parquet as pq"
   ]
  },
  {
   "cell_type": "markdown",
   "id": "8fd93ffa-ce6a-46ee-a123-a13dd9a4c0e4",
   "metadata": {},
   "source": [
    "<br>\n",
    "\n",
    "# Gráfico"
   ]
  },
  {
   "cell_type": "code",
   "execution_count": 25,
   "id": "3f5e47c3-ebdc-4d7c-bab8-882385d6bacb",
   "metadata": {},
   "outputs": [],
   "source": [
    "# Parameters\n",
    "pto_mon = 'ABAN02800'\n",
    "parametro = 'Oxigênio Dissolvido'\n",
    "\n",
    "# Paths\n",
    "input_path = os.path.join('..', 'data', 'amostras')\n",
    "filter_path = os.path.join(\n",
    "    input_path,\n",
    "    'cod_ponto={}'.format(pto_mon),\n",
    "    'parametro={}'.format(parametro),\n",
    "    '*.parquet'\n",
    ")"
   ]
  },
  {
   "cell_type": "code",
   "execution_count": 26,
   "id": "831caa08-d106-47cb-ade0-86f840d0fa20",
   "metadata": {},
   "outputs": [
    {
     "name": "stdout",
     "output_type": "stream",
     "text": [
      "23\n",
      "cod_ponto                category\n",
      "datahora_coleta    datetime64[ns]\n",
      "parametro                category\n",
      "sinal                      object\n",
      "valor                     float64\n",
      "unidade                    object\n",
      "dtype: object\n"
     ]
    },
    {
     "data": {
      "text/html": [
       "<div>\n",
       "<style scoped>\n",
       "    .dataframe tbody tr th:only-of-type {\n",
       "        vertical-align: middle;\n",
       "    }\n",
       "\n",
       "    .dataframe tbody tr th {\n",
       "        vertical-align: top;\n",
       "    }\n",
       "\n",
       "    .dataframe thead th {\n",
       "        text-align: right;\n",
       "    }\n",
       "</style>\n",
       "<table border=\"1\" class=\"dataframe\">\n",
       "  <thead>\n",
       "    <tr style=\"text-align: right;\">\n",
       "      <th></th>\n",
       "      <th>cod_ponto</th>\n",
       "      <th>datahora_coleta</th>\n",
       "      <th>parametro</th>\n",
       "      <th>sinal</th>\n",
       "      <th>valor</th>\n",
       "      <th>unidade</th>\n",
       "    </tr>\n",
       "  </thead>\n",
       "  <tbody>\n",
       "    <tr>\n",
       "      <th>0</th>\n",
       "      <td>ABAN02800</td>\n",
       "      <td>2017-01-17 09:50:00</td>\n",
       "      <td>Oxigênio Dissolvido</td>\n",
       "      <td>None</td>\n",
       "      <td>3.53</td>\n",
       "      <td>mg/L</td>\n",
       "    </tr>\n",
       "    <tr>\n",
       "      <th>1</th>\n",
       "      <td>ABAN02800</td>\n",
       "      <td>2017-03-16 10:24:00</td>\n",
       "      <td>Oxigênio Dissolvido</td>\n",
       "      <td>None</td>\n",
       "      <td>3.52</td>\n",
       "      <td>mg/L</td>\n",
       "    </tr>\n",
       "    <tr>\n",
       "      <th>2</th>\n",
       "      <td>ABAN02800</td>\n",
       "      <td>2017-05-04 09:58:00</td>\n",
       "      <td>Oxigênio Dissolvido</td>\n",
       "      <td>None</td>\n",
       "      <td>3.65</td>\n",
       "      <td>mg/L</td>\n",
       "    </tr>\n",
       "    <tr>\n",
       "      <th>3</th>\n",
       "      <td>ABAN02800</td>\n",
       "      <td>2017-07-19 10:30:00</td>\n",
       "      <td>Oxigênio Dissolvido</td>\n",
       "      <td>None</td>\n",
       "      <td>5.48</td>\n",
       "      <td>mg/L</td>\n",
       "    </tr>\n",
       "    <tr>\n",
       "      <th>4</th>\n",
       "      <td>ABAN02800</td>\n",
       "      <td>2017-09-20 09:39:00</td>\n",
       "      <td>Oxigênio Dissolvido</td>\n",
       "      <td>None</td>\n",
       "      <td>4.50</td>\n",
       "      <td>mg/L</td>\n",
       "    </tr>\n",
       "  </tbody>\n",
       "</table>\n",
       "</div>"
      ],
      "text/plain": [
       "   cod_ponto     datahora_coleta            parametro sinal  valor unidade\n",
       "0  ABAN02800 2017-01-17 09:50:00  Oxigênio Dissolvido  None   3.53    mg/L\n",
       "1  ABAN02800 2017-03-16 10:24:00  Oxigênio Dissolvido  None   3.52    mg/L\n",
       "2  ABAN02800 2017-05-04 09:58:00  Oxigênio Dissolvido  None   3.65    mg/L\n",
       "3  ABAN02800 2017-07-19 10:30:00  Oxigênio Dissolvido  None   5.48    mg/L\n",
       "4  ABAN02800 2017-09-20 09:39:00  Oxigênio Dissolvido  None   4.50    mg/L"
      ]
     },
     "execution_count": 26,
     "metadata": {},
     "output_type": "execute_result"
    }
   ],
   "source": [
    "# Set Filters\n",
    "filters = [\n",
    "    ('cod_ponto', '==', pto_mon),\n",
    "    ('parametro', '==', parametro),\n",
    "]\n",
    "\n",
    "# Read Dataframes\n",
    "df = dd.read_parquet(\n",
    "    os.path.join(filter_path),\n",
    "    #filters=filters,\n",
    ")\n",
    "\n",
    "# Calculate\n",
    "df = df.compute()\n",
    "df['valor'] = pd.to_numeric(df['valor'].str.replace(',', '.'), errors='ignore')\n",
    "df = df[['cod_ponto', 'datahora_coleta', 'parametro', 'sinal', 'valor', 'unidade']].copy()\n",
    "df.reset_index(inplace=True, drop=True)\n",
    "df.sort_values(by=['datahora_coleta'], ascending=True, inplace=True)\n",
    "\n",
    "# Results\n",
    "print(len(df))\n",
    "print(df.dtypes)\n",
    "df.head()"
   ]
  },
  {
   "cell_type": "code",
   "execution_count": 27,
   "id": "30976dba-fa37-43ef-84aa-90d961158b4d",
   "metadata": {},
   "outputs": [
    {
     "data": {
      "text/plain": [
       "<AxesSubplot:xlabel='datahora_coleta', ylabel='valor'>"
      ]
     },
     "execution_count": 27,
     "metadata": {},
     "output_type": "execute_result"
    },
    {
     "data": {
      "image/png": "[encoded data removed]",
      "text/plain": [
       "<Figure size 432x288 with 1 Axes>"
      ]
     },
     "metadata": {
      "needs_background": "light"
     },
     "output_type": "display_data"
    }
   ],
   "source": [
    "df.plot(kind='scatter', x='datahora_coleta', y='valor', color='red')"
   ]
  },
  {
   "cell_type": "markdown",
   "id": "dbc0cbfa-2682-4180-a928-6da95300271a",
   "metadata": {},
   "source": [
    "<br>\n",
    "\n",
    "# Export"
   ]
  },
  {
   "cell_type": "code",
   "execution_count": 28,
   "id": "eceec4ae-4989-4cde-b10b-bb9c10b9cda9",
   "metadata": {},
   "outputs": [
    {
     "data": {
      "text/plain": [
       "'../data/amostras/cod_ponto=ABAN02800/parametro=*/*.parquet'"
      ]
     },
     "execution_count": 28,
     "metadata": {},
     "output_type": "execute_result"
    }
   ],
   "source": [
    "# Parameters\n",
    "pto_mon = 'ABAN02800'\n",
    "parametro = ''\n",
    "\n",
    "# Paths\n",
    "input_path = os.path.join('..', 'data', 'amostras')\n",
    "filter_path = os.path.join(\n",
    "    input_path,\n",
    "    'cod_ponto={}'.format(pto_mon),\n",
    "    'parametro={}'.format('*' if parametro == '' else parametro),\n",
    "    '*.parquet'\n",
    ")\n",
    "filter_path"
   ]
  },
  {
   "cell_type": "code",
   "execution_count": 29,
   "id": "1192828b-9b37-45a4-aacf-53b59f5c9ff8",
   "metadata": {},
   "outputs": [
    {
     "name": "stdout",
     "output_type": "stream",
     "text": [
      "977\n",
      "cod_ponto                category\n",
      "datahora_coleta    datetime64[ns]\n",
      "parametro                category\n",
      "sinal                      object\n",
      "valor                      object\n",
      "unidade                    object\n",
      "dtype: object\n"
     ]
    },
    {
     "data": {
      "text/html": [
       "<div>\n",
       "<style scoped>\n",
       "    .dataframe tbody tr th:only-of-type {\n",
       "        vertical-align: middle;\n",
       "    }\n",
       "\n",
       "    .dataframe tbody tr th {\n",
       "        vertical-align: top;\n",
       "    }\n",
       "\n",
       "    .dataframe thead th {\n",
       "        text-align: right;\n",
       "    }\n",
       "</style>\n",
       "<table border=\"1\" class=\"dataframe\">\n",
       "  <thead>\n",
       "    <tr style=\"text-align: right;\">\n",
       "      <th></th>\n",
       "      <th>cod_ponto</th>\n",
       "      <th>datahora_coleta</th>\n",
       "      <th>parametro</th>\n",
       "      <th>sinal</th>\n",
       "      <th>valor</th>\n",
       "      <th>unidade</th>\n",
       "    </tr>\n",
       "  </thead>\n",
       "  <tbody>\n",
       "    <tr>\n",
       "      <th>0</th>\n",
       "      <td>ABAN02800</td>\n",
       "      <td>2017-01-17 09:50:00</td>\n",
       "      <td>Alumínio Dissolvido</td>\n",
       "      <td>&lt;</td>\n",
       "      <td>0.10000000</td>\n",
       "      <td>mg/L</td>\n",
       "    </tr>\n",
       "    <tr>\n",
       "      <th>799</th>\n",
       "      <td>ABAN02800</td>\n",
       "      <td>2017-01-17 09:50:00</td>\n",
       "      <td>Sódio</td>\n",
       "      <td>None</td>\n",
       "      <td>4.72000000</td>\n",
       "      <td>mg/L</td>\n",
       "    </tr>\n",
       "    <tr>\n",
       "      <th>287</th>\n",
       "      <td>ABAN02800</td>\n",
       "      <td>2017-01-17 09:50:00</td>\n",
       "      <td>Cádmio Total</td>\n",
       "      <td>&lt;</td>\n",
       "      <td>0.00070000</td>\n",
       "      <td>mg/L</td>\n",
       "    </tr>\n",
       "    <tr>\n",
       "      <th>267</th>\n",
       "      <td>ABAN02800</td>\n",
       "      <td>2017-01-17 09:50:00</td>\n",
       "      <td>Crômio Total</td>\n",
       "      <td>&lt;</td>\n",
       "      <td>0.02000000</td>\n",
       "      <td>mg/L</td>\n",
       "    </tr>\n",
       "    <tr>\n",
       "      <th>819</th>\n",
       "      <td>ABAN02800</td>\n",
       "      <td>2017-01-17 09:50:00</td>\n",
       "      <td>Sólido Dissolvido Total</td>\n",
       "      <td>&lt;</td>\n",
       "      <td>100.00000000</td>\n",
       "      <td>mg/L</td>\n",
       "    </tr>\n",
       "  </tbody>\n",
       "</table>\n",
       "</div>"
      ],
      "text/plain": [
       "     cod_ponto     datahora_coleta                parametro sinal  \\\n",
       "0    ABAN02800 2017-01-17 09:50:00      Alumínio Dissolvido     <   \n",
       "799  ABAN02800 2017-01-17 09:50:00                    Sódio  None   \n",
       "287  ABAN02800 2017-01-17 09:50:00             Cádmio Total     <   \n",
       "267  ABAN02800 2017-01-17 09:50:00             Crômio Total     <   \n",
       "819  ABAN02800 2017-01-17 09:50:00  Sólido Dissolvido Total     <   \n",
       "\n",
       "            valor unidade  \n",
       "0      0.10000000    mg/L  \n",
       "799    4.72000000    mg/L  \n",
       "287    0.00070000    mg/L  \n",
       "267    0.02000000    mg/L  \n",
       "819  100.00000000    mg/L  "
      ]
     },
     "execution_count": 29,
     "metadata": {},
     "output_type": "execute_result"
    }
   ],
   "source": [
    "# Set Filters\n",
    "filters = [\n",
    "    ('cod_ponto', '==', pto_mon),\n",
    "    #('parametro', '==', parametro),\n",
    "]\n",
    "\n",
    "# Read Dataframes\n",
    "df = dd.read_parquet(\n",
    "    os.path.join(filter_path),\n",
    "    filters=filters,\n",
    ")\n",
    "\n",
    "# Calculate\n",
    "df = df.compute()\n",
    "#df['valor'] = pd.to_numeric(df['valor'].str.replace(',', '.'), errors='ignore')\n",
    "df = df[['cod_ponto', 'datahora_coleta', 'parametro', 'sinal', 'valor', 'unidade']].copy()\n",
    "df.reset_index(inplace=True, drop=True)\n",
    "df.sort_values(by=['datahora_coleta'], ascending=True, inplace=True)\n",
    "\n",
    "# Results\n",
    "print(len(df))\n",
    "print(df.dtypes)\n",
    "df.head()"
   ]
  },
  {
   "cell_type": "code",
   "execution_count": 30,
   "id": "9306520e-ccd1-4a18-8874-b2ece8cda585",
   "metadata": {},
   "outputs": [],
   "source": [
    "# Write to Excel\n",
    "output_path = os.path.join('..', 'data', 'output')\n",
    "os.makedirs(output_path, exist_ok=True)\n",
    "\n",
    "df.to_excel(\n",
    "    os.path.join(output_path, '{}.xlsx'.format(pto_mon)),\n",
    "    index=False,\n",
    ")"
   ]
  },
  {
   "cell_type": "code",
   "execution_count": 31,
   "id": "d1908434-d8a5-4b01-8453-83de3e389b3a",
   "metadata": {},
   "outputs": [
    {
     "data": {
      "text/plain": [
       "cod_ponto                category\n",
       "datahora_coleta    datetime64[ns]\n",
       "parametro                category\n",
       "sinal                      object\n",
       "valor                      object\n",
       "unidade                    object\n",
       "dtype: object"
      ]
     },
     "execution_count": 31,
     "metadata": {},
     "output_type": "execute_result"
    }
   ],
   "source": [
    "df.dtypes"
   ]
  },
  {
   "cell_type": "code",
   "execution_count": null,
   "id": "e06a8d3d-c8c2-42d1-9de5-a4038d4956f6",
   "metadata": {},
   "outputs": [],
   "source": []
  }
 ],
 "metadata": {
  "kernelspec": {
   "display_name": "Python [conda env:pablocarreira-py39] *",
   "language": "python",
   "name": "conda-env-pablocarreira-py39-py"
  },
  "language_info": {
   "codemirror_mode": {
    "name": "ipython",
    "version": 3
   },
   "file_extension": ".py",
   "mimetype": "text/x-python",
   "name": "python",
   "nbconvert_exporter": "python",
   "pygments_lexer": "ipython3",
   "version": "3.9.7"
  },
  "toc-autonumbering": true
 },
 "nbformat": 4,
 "nbformat_minor": 5
}

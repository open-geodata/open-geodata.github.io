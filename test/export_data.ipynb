{
 "cells": [
  {
   "cell_type": "markdown",
   "id": "2cf6d73c-6dbb-441d-aa06-1daf7fe646ad",
   "metadata": {},
   "source": [
    "<br>\n",
    "\n",
    "# Introdução"
   ]
  },
  {
   "cell_type": "code",
   "execution_count": 22,
   "id": "d45fba69-3d14-4ccb-b34b-6ecddfc686ff",
   "metadata": {},
   "outputs": [],
   "source": [
    "import os\n",
    "import time\n",
    "import ctypes\n",
    "import datetime\n",
    "import numpy as np\n",
    "import pandas as pd\n",
    "import dask.dataframe as dd\n",
    "import pyarrow.parquet as pq"
   ]
  },
  {
   "cell_type": "markdown",
   "id": "8fd93ffa-ce6a-46ee-a123-a13dd9a4c0e4",
   "metadata": {},
   "source": [
    "<br>\n",
    "\n",
    "# Gráfico"
   ]
  },
  {
   "cell_type": "code",
   "execution_count": 23,
   "id": "3f5e47c3-ebdc-4d7c-bab8-882385d6bacb",
   "metadata": {},
   "outputs": [],
   "source": [
    "# Parameters\n",
    "pto_mon = 'PCAB02220'\n",
    "parametro = 'Oxigênio Dissolvido'\n",
    "\n",
    "# Paths\n",
    "input_path = os.path.join('..', 'data', 'amostras')\n",
    "filter_path = os.path.join(\n",
    "    input_path,\n",
    "    'cod_ponto={}'.format(pto_mon),\n",
    "    'parametro={}'.format(parametro),\n",
    "    '*.parquet'\n",
    ")"
   ]
  },
  {
   "cell_type": "code",
   "execution_count": 24,
   "id": "831caa08-d106-47cb-ade0-86f840d0fa20",
   "metadata": {},
   "outputs": [
    {
     "name": "stdout",
     "output_type": "stream",
     "text": [
      "155\n",
      "data_coleta       datetime64[ns]\n",
      "hora_coleta               object\n",
      "sinal                     object\n",
      "valor                    float64\n",
      "unidade                   object\n",
      "tipo_parametro            object\n",
      "cod_ponto               category\n",
      "parametro               category\n",
      "dtype: object\n"
     ]
    },
    {
     "data": {
      "text/html": [
       "<div>\n",
       "<style scoped>\n",
       "    .dataframe tbody tr th:only-of-type {\n",
       "        vertical-align: middle;\n",
       "    }\n",
       "\n",
       "    .dataframe tbody tr th {\n",
       "        vertical-align: top;\n",
       "    }\n",
       "\n",
       "    .dataframe thead th {\n",
       "        text-align: right;\n",
       "    }\n",
       "</style>\n",
       "<table border=\"1\" class=\"dataframe\">\n",
       "  <thead>\n",
       "    <tr style=\"text-align: right;\">\n",
       "      <th></th>\n",
       "      <th>data_coleta</th>\n",
       "      <th>hora_coleta</th>\n",
       "      <th>sinal</th>\n",
       "      <th>valor</th>\n",
       "      <th>unidade</th>\n",
       "      <th>tipo_parametro</th>\n",
       "      <th>cod_ponto</th>\n",
       "      <th>parametro</th>\n",
       "    </tr>\n",
       "  </thead>\n",
       "  <tbody>\n",
       "    <tr>\n",
       "      <th>0</th>\n",
       "      <td>1995-01-25</td>\n",
       "      <td>07:20:00</td>\n",
       "      <td>None</td>\n",
       "      <td>2.4</td>\n",
       "      <td>mg/L</td>\n",
       "      <td>3- Químicos</td>\n",
       "      <td>PCAB02220</td>\n",
       "      <td>Oxigênio Dissolvido</td>\n",
       "    </tr>\n",
       "    <tr>\n",
       "      <th>1</th>\n",
       "      <td>1995-05-17</td>\n",
       "      <td>08:30:00</td>\n",
       "      <td>None</td>\n",
       "      <td>4.1</td>\n",
       "      <td>mg/L</td>\n",
       "      <td>3- Químicos</td>\n",
       "      <td>PCAB02220</td>\n",
       "      <td>Oxigênio Dissolvido</td>\n",
       "    </tr>\n",
       "    <tr>\n",
       "      <th>2</th>\n",
       "      <td>1995-06-21</td>\n",
       "      <td>09:10:00</td>\n",
       "      <td>None</td>\n",
       "      <td>3.1</td>\n",
       "      <td>mg/L</td>\n",
       "      <td>3- Químicos</td>\n",
       "      <td>PCAB02220</td>\n",
       "      <td>Oxigênio Dissolvido</td>\n",
       "    </tr>\n",
       "    <tr>\n",
       "      <th>3</th>\n",
       "      <td>1995-07-26</td>\n",
       "      <td>08:40:00</td>\n",
       "      <td>None</td>\n",
       "      <td>1.6</td>\n",
       "      <td>mg/L</td>\n",
       "      <td>3- Químicos</td>\n",
       "      <td>PCAB02220</td>\n",
       "      <td>Oxigênio Dissolvido</td>\n",
       "    </tr>\n",
       "    <tr>\n",
       "      <th>4</th>\n",
       "      <td>1995-09-05</td>\n",
       "      <td>09:00:00</td>\n",
       "      <td>None</td>\n",
       "      <td>1.1</td>\n",
       "      <td>mg/L</td>\n",
       "      <td>3- Químicos</td>\n",
       "      <td>PCAB02220</td>\n",
       "      <td>Oxigênio Dissolvido</td>\n",
       "    </tr>\n",
       "  </tbody>\n",
       "</table>\n",
       "</div>"
      ],
      "text/plain": [
       "  data_coleta hora_coleta sinal  valor unidade tipo_parametro  cod_ponto  \\\n",
       "0  1995-01-25    07:20:00  None    2.4    mg/L    3- Químicos  PCAB02220   \n",
       "1  1995-05-17    08:30:00  None    4.1    mg/L    3- Químicos  PCAB02220   \n",
       "2  1995-06-21    09:10:00  None    3.1    mg/L    3- Químicos  PCAB02220   \n",
       "3  1995-07-26    08:40:00  None    1.6    mg/L    3- Químicos  PCAB02220   \n",
       "4  1995-09-05    09:00:00  None    1.1    mg/L    3- Químicos  PCAB02220   \n",
       "\n",
       "             parametro  \n",
       "0  Oxigênio Dissolvido  \n",
       "1  Oxigênio Dissolvido  \n",
       "2  Oxigênio Dissolvido  \n",
       "3  Oxigênio Dissolvido  \n",
       "4  Oxigênio Dissolvido  "
      ]
     },
     "execution_count": 24,
     "metadata": {},
     "output_type": "execute_result"
    }
   ],
   "source": [
    "# Set Filters\n",
    "filters = [\n",
    "    ('cod_ponto', '==', pto_mon),\n",
    "    ('parametro', '==', parametro),\n",
    "]\n",
    "\n",
    "# Read Dataframes\n",
    "df = dd.read_parquet(\n",
    "    os.path.join(filter_path),\n",
    "    #filters=filters,\n",
    ")\n",
    "\n",
    "# Calculate\n",
    "df = df.compute()\n",
    "df['valor'] = pd.to_numeric(df['valor'].str.replace(',', '.'), errors='ignore')\n",
    "df.reset_index(inplace=True, drop=True)\n",
    "df.sort_values(by=['data_coleta'], ascending=True, inplace=True)\n",
    "\n",
    "# Results\n",
    "print(len(df))\n",
    "print(df.dtypes)\n",
    "df.head()"
   ]
  },
  {
   "cell_type": "code",
   "execution_count": 25,
   "id": "30976dba-fa37-43ef-84aa-90d961158b4d",
   "metadata": {},
   "outputs": [
    {
     "data": {
      "text/plain": [
       "<AxesSubplot:xlabel='data_coleta', ylabel='valor'>"
      ]
     },
     "execution_count": 25,
     "metadata": {},
     "output_type": "execute_result"
    },
    {
     "data": {
      "image/png": "[encoded data removed]",
      "text/plain": [
       "<Figure size 432x288 with 1 Axes>"
      ]
     },
     "metadata": {
      "needs_background": "light"
     },
     "output_type": "display_data"
    }
   ],
   "source": [
    "df.plot(kind='scatter', x='data_coleta', y='valor', color='red')"
   ]
  },
  {
   "cell_type": "markdown",
   "id": "dbc0cbfa-2682-4180-a928-6da95300271a",
   "metadata": {},
   "source": [
    "<br>\n",
    "\n",
    "# Export"
   ]
  },
  {
   "cell_type": "code",
   "execution_count": 26,
   "id": "eceec4ae-4989-4cde-b10b-bb9c10b9cda9",
   "metadata": {},
   "outputs": [
    {
     "data": {
      "text/plain": [
       "'../data/amostras/cod_ponto=PCAB02220/parametro=*/*.parquet'"
      ]
     },
     "execution_count": 26,
     "metadata": {},
     "output_type": "execute_result"
    }
   ],
   "source": [
    "# Parameters\n",
    "pto_mon = 'PCAB02220'\n",
    "parametro = ''\n",
    "\n",
    "# Paths\n",
    "input_path = os.path.join('..', 'data', 'amostras')\n",
    "filter_path = os.path.join(\n",
    "    input_path,\n",
    "    'cod_ponto={}'.format(pto_mon),\n",
    "    'parametro={}'.format('*' if parametro == '' else parametro),\n",
    "    '*.parquet'\n",
    ")\n",
    "filter_path"
   ]
  },
  {
   "cell_type": "code",
   "execution_count": 21,
   "id": "1192828b-9b37-45a4-aacf-53b59f5c9ff8",
   "metadata": {},
   "outputs": [
    {
     "name": "stdout",
     "output_type": "stream",
     "text": [
      "6386\n",
      "data_coleta       datetime64[ns]\n",
      "hora_coleta               object\n",
      "sinal                     object\n",
      "valor                     object\n",
      "unidade                   object\n",
      "tipo_parametro            object\n",
      "cod_ponto               category\n",
      "parametro               category\n",
      "dtype: object\n"
     ]
    },
    {
     "data": {
      "text/html": [
       "<div>\n",
       "<style scoped>\n",
       "    .dataframe tbody tr th:only-of-type {\n",
       "        vertical-align: middle;\n",
       "    }\n",
       "\n",
       "    .dataframe tbody tr th {\n",
       "        vertical-align: top;\n",
       "    }\n",
       "\n",
       "    .dataframe thead th {\n",
       "        text-align: right;\n",
       "    }\n",
       "</style>\n",
       "<table border=\"1\" class=\"dataframe\">\n",
       "  <thead>\n",
       "    <tr style=\"text-align: right;\">\n",
       "      <th></th>\n",
       "      <th>data_coleta</th>\n",
       "      <th>hora_coleta</th>\n",
       "      <th>sinal</th>\n",
       "      <th>valor</th>\n",
       "      <th>unidade</th>\n",
       "      <th>tipo_parametro</th>\n",
       "      <th>cod_ponto</th>\n",
       "      <th>parametro</th>\n",
       "    </tr>\n",
       "  </thead>\n",
       "  <tbody>\n",
       "    <tr>\n",
       "      <th>6224</th>\n",
       "      <td>1995-01-25</td>\n",
       "      <td>07:20:00</td>\n",
       "      <td>None</td>\n",
       "      <td>6.60000000</td>\n",
       "      <td>U.pH</td>\n",
       "      <td>3- Químicos</td>\n",
       "      <td>PCAB02220</td>\n",
       "      <td>pH</td>\n",
       "    </tr>\n",
       "    <tr>\n",
       "      <th>1553</th>\n",
       "      <td>1995-01-25</td>\n",
       "      <td>07:20:00</td>\n",
       "      <td>None</td>\n",
       "      <td>130000.00000000</td>\n",
       "      <td>NMP/100mL</td>\n",
       "      <td>4- Microbiológicos</td>\n",
       "      <td>PCAB02220</td>\n",
       "      <td>Coliformes Totais - TTM</td>\n",
       "    </tr>\n",
       "    <tr>\n",
       "      <th>3960</th>\n",
       "      <td>1995-01-25</td>\n",
       "      <td>07:20:00</td>\n",
       "      <td>None</td>\n",
       "      <td>1.43000000</td>\n",
       "      <td>mg/L</td>\n",
       "      <td>3- Químicos</td>\n",
       "      <td>PCAB02220</td>\n",
       "      <td>Nitrogênio Kjeldahl</td>\n",
       "    </tr>\n",
       "    <tr>\n",
       "      <th>3626</th>\n",
       "      <td>1995-01-25</td>\n",
       "      <td>07:20:00</td>\n",
       "      <td>&lt;</td>\n",
       "      <td>0.00020000</td>\n",
       "      <td>mg/L</td>\n",
       "      <td>3- Químicos</td>\n",
       "      <td>PCAB02220</td>\n",
       "      <td>Mercúrio Total</td>\n",
       "    </tr>\n",
       "    <tr>\n",
       "      <th>5501</th>\n",
       "      <td>1995-01-25</td>\n",
       "      <td>07:20:00</td>\n",
       "      <td>None</td>\n",
       "      <td>20.00000000</td>\n",
       "      <td>ºC</td>\n",
       "      <td>2- Físicos</td>\n",
       "      <td>PCAB02220</td>\n",
       "      <td>Temperatura da Água</td>\n",
       "    </tr>\n",
       "  </tbody>\n",
       "</table>\n",
       "</div>"
      ],
      "text/plain": [
       "     data_coleta hora_coleta sinal            valor    unidade  \\\n",
       "6224  1995-01-25    07:20:00  None       6.60000000       U.pH   \n",
       "1553  1995-01-25    07:20:00  None  130000.00000000  NMP/100mL   \n",
       "3960  1995-01-25    07:20:00  None       1.43000000       mg/L   \n",
       "3626  1995-01-25    07:20:00     <       0.00020000       mg/L   \n",
       "5501  1995-01-25    07:20:00  None      20.00000000         ºC   \n",
       "\n",
       "          tipo_parametro  cod_ponto                parametro  \n",
       "6224         3- Químicos  PCAB02220                       pH  \n",
       "1553  4- Microbiológicos  PCAB02220  Coliformes Totais - TTM  \n",
       "3960         3- Químicos  PCAB02220      Nitrogênio Kjeldahl  \n",
       "3626         3- Químicos  PCAB02220           Mercúrio Total  \n",
       "5501          2- Físicos  PCAB02220      Temperatura da Água  "
      ]
     },
     "execution_count": 21,
     "metadata": {},
     "output_type": "execute_result"
    }
   ],
   "source": [
    "# Set Filters\n",
    "filters = [\n",
    "    ('cod_ponto', '==', pto_mon),\n",
    "    #('parametro', '==', parametro),\n",
    "]\n",
    "\n",
    "# Read Dataframes\n",
    "df = dd.read_parquet(\n",
    "    os.path.join(filter_path),\n",
    "    filters=filters,\n",
    ")\n",
    "\n",
    "# Calculate\n",
    "df = df.compute()\n",
    "#df['valor'] = pd.to_numeric(df['valor'].str.replace(',', '.'), errors='ignore')\n",
    "df.reset_index(inplace=True, drop=True)\n",
    "df.sort_values(by=['data_coleta'], ascending=True, inplace=True)\n",
    "\n",
    "# Results\n",
    "print(len(df))\n",
    "print(df.dtypes)\n",
    "df.head()"
   ]
  },
  {
   "cell_type": "code",
   "execution_count": 19,
   "id": "9306520e-ccd1-4a18-8874-b2ece8cda585",
   "metadata": {},
   "outputs": [],
   "source": [
    "# Write to Excel\n",
    "output_path = os.path.join('..', 'data', 'output')\n",
    "os.makedirs(output_path, exist_ok=True)\n",
    "\n",
    "df.to_excel(\n",
    "    os.path.join(output_path, '{}.xlsx'.format(pto_mon)),\n",
    "    index=False,\n",
    ")"
   ]
  }
 ],
 "metadata": {
  "kernelspec": {
   "display_name": "Python [conda env:pablocarreira-py39] *",
   "language": "python",
   "name": "conda-env-pablocarreira-py39-py"
  },
  "language_info": {
   "codemirror_mode": {
    "name": "ipython",
    "version": 3
   },
   "file_extension": ".py",
   "mimetype": "text/x-python",
   "name": "python",
   "nbconvert_exporter": "python",
   "pygments_lexer": "ipython3",
   "version": "3.9.7"
  },
  "toc-autonumbering": true
 },
 "nbformat": 4,
 "nbformat_minor": 5
}

{
 "cells": [
  {
   "cell_type": "markdown",
   "metadata": {},
   "source": [
    "<br>\n",
    "\n",
    "# Introdução"
   ]
  },
  {
   "cell_type": "code",
   "execution_count": null,
   "metadata": {},
   "outputs": [],
   "source": [
    "import os\n",
    "import math\n",
    "import time\n",
    "import shutil\n",
    "import pandas as pd\n",
    "from datetime import date\n",
    "from bs4 import BeautifulSoup\n",
    "from dateutil.relativedelta import relativedelta"
   ]
  },
  {
   "cell_type": "code",
   "execution_count": null,
   "metadata": {},
   "outputs": [],
   "source": [
    "import sys\n",
    "sys.path.append(os.path.expanduser('~/Documents/Sourcecode'))\n",
    "from my_vault.credentials_infoaguas import credential"
   ]
  },
  {
   "cell_type": "code",
   "execution_count": null,
   "metadata": {},
   "outputs": [],
   "source": [
    "from selenium import webdriver\n",
    "from selenium.webdriver.common.by import By\n",
    "from selenium.webdriver.firefox.options import Options\n",
    "from selenium.webdriver.support.ui import WebDriverWait\n",
    "from selenium.webdriver.support import expected_conditions as EC"
   ]
  },
  {
   "cell_type": "markdown",
   "metadata": {},
   "source": [
    "<br>\n",
    "\n",
    "# Functions"
   ]
  },
  {
   "cell_type": "markdown",
   "metadata": {},
   "source": [
    "<br>\n",
    "\n",
    "## Cria Driver"
   ]
  },
  {
   "cell_type": "code",
   "execution_count": null,
   "metadata": {},
   "outputs": [],
   "source": [
    "def create_driver(download_dir):\n",
    "    # Create directory\n",
    "    [os.makedirs(i, exist_ok=True) for i in [download_dir]]\n",
    "    \n",
    "    # Driver Firefox com Profile\n",
    "    profile = webdriver.FirefoxProfile()\n",
    "    profile.set_preference('intl.accept_languages', 'pt-BR, pt')\n",
    "    profile.set_preference('browser.download.folderList', 2)\n",
    "    profile.set_preference('browser.download.dir', download_dir)\n",
    "    profile.set_preference('browser.download.manager.showWhenStarting', 'false')\n",
    "    profile.set_preference('browser.helperApps.neverAsk.saveToDisk', 'application/octet-stream;application/vnd.ms-excel;text/html')\n",
    "    profile.update_preferences()\n",
    "\n",
    "    # Driver Firefox com Options\n",
    "    options = Options()\n",
    "    options.headless = False\n",
    "\n",
    "    # Driver\n",
    "    return webdriver.Firefox(firefox_profile=profile, options=options)"
   ]
  },
  {
   "cell_type": "markdown",
   "metadata": {},
   "source": [
    "<br>\n",
    "\n",
    "## Go Login"
   ]
  },
  {
   "cell_type": "code",
   "execution_count": null,
   "metadata": {},
   "outputs": [],
   "source": [
    "def go_login(payload):\n",
    "    try:\n",
    "        url = 'https://sistemainfoaguas.cetesb.sp.gov.br/'\n",
    "        driver.get(url)\n",
    "        time.sleep(1)\n",
    "\n",
    "        # Login\n",
    "        username = driver.find_element_by_id('Email')\n",
    "        username.send_keys(payload['username'])\n",
    "        time.sleep(1)\n",
    "\n",
    "        password = driver.find_element_by_id('Senha')\n",
    "        password.send_keys(payload['password'])\n",
    "        time.sleep(1)\n",
    "\n",
    "        driver.find_element_by_xpath(\"//button[@onclick=\\\"entrarClick();\\\"]\").click()\n",
    "        time.sleep(1)\n",
    "\n",
    "    except:\n",
    "        print('Talvez já estivesse logado!?')"
   ]
  },
  {
   "cell_type": "markdown",
   "metadata": {},
   "source": [
    "<br>\n",
    "\n",
    "## Go Relatório Superficial"
   ]
  },
  {
   "cell_type": "code",
   "execution_count": null,
   "metadata": {},
   "outputs": [],
   "source": [
    "def go_rel_superficiais():\n",
    "    # Relatório de Águas Superficiais\n",
    "    url = 'https://sistemainfoaguas.cetesb.sp.gov.br/AguasSuperficiais/RelatorioQualidadeAguasSuperficiais'\n",
    "    driver.get(url)\n",
    "    driver.find_element_by_xpath(\"//button[@type=\\\"submit\\\"]\").click()"
   ]
  },
  {
   "cell_type": "markdown",
   "metadata": {},
   "source": [
    "<br>\n",
    "\n",
    "## Get Table\n",
    "\n",
    "Monta Tabela com Todos os Pontos"
   ]
  },
  {
   "cell_type": "code",
   "execution_count": null,
   "metadata": {},
   "outputs": [],
   "source": [
    "def get_df():\n",
    "    # Número de Páginas\n",
    "    driver.find_element_by_xpath(\"//*[@name='gridConsulta_length']//option[text()='100']\").click()\n",
    "    info = driver.find_element_by_xpath(\"//*[@id='gridConsulta_info']\").text\n",
    "    n_pages = math.ceil(int(info.split(' ')[-2])/100)\n",
    "\n",
    "    dfs = []\n",
    "    for i in range(0, n_pages):\n",
    "        soup = BeautifulSoup(driver.page_source)\n",
    "        soup_table = soup.find('table')\n",
    "        df = pd.read_html(str(soup_table))\n",
    "        df = df[0]\n",
    "        dfs.append(df)\n",
    "        driver.find_element_by_xpath(\"//*[@id='gridConsulta_next']\").click()\n",
    "        time.sleep(1)\n",
    "\n",
    "    # Concatena\n",
    "    df = pd.concat(dfs)\n",
    "    df['Data Início'] = pd.to_datetime(df['Data Início'], format='%d/%m/%Y', errors='coerce')\n",
    "    df['Data Fim'] = pd.to_datetime(df['Data Fim'], format='%d/%m/%Y', errors='coerce')\n",
    "    df.drop(['Unnamed: 6'], axis=1, errors='ignore', inplace=True)\n",
    "    return df"
   ]
  },
  {
   "cell_type": "markdown",
   "metadata": {},
   "source": [
    "<br>\n",
    "\n",
    "## Set Ponto\n",
    "\n",
    "Função que pesquisa um ponto"
   ]
  },
  {
   "cell_type": "code",
   "execution_count": null,
   "metadata": {},
   "outputs": [],
   "source": [
    "def set_ponto(ponto):\n",
    "    # Clica em Consulta\n",
    "    WebDriverWait(driver, 30).until(EC.presence_of_element_located(\n",
    "        (By.XPATH, \"//*[@aria-controls='gridConsulta']\")))\n",
    "    time.sleep(1)\n",
    "    \n",
    "    # Procura Ponto\n",
    "    search = driver.find_element_by_xpath(\"//*[@aria-controls='gridConsulta']\")\n",
    "    search.clear()\n",
    "    search.send_keys(ponto)\n",
    "    time.sleep(1)\n",
    "    \n",
    "    # Pesquisa\n",
    "    driver.find_element_by_xpath(\"//*[@id='CodigoPonto']\").click()\n",
    "    time.sleep(1)"
   ]
  },
  {
   "cell_type": "markdown",
   "metadata": {},
   "source": [
    "<br>\n",
    "\n",
    "## Set Dates"
   ]
  },
  {
   "cell_type": "code",
   "execution_count": null,
   "metadata": {},
   "outputs": [],
   "source": [
    "def set_date(tipo_data, data):\n",
    "    #tipo_data = 'DataInicial'\n",
    "    #tipo_data = 'DataFinal'\n",
    "    WebDriverWait(driver, 30).until(EC.presence_of_element_located((By.XPATH, \"//*[@class='btn btn-primary']\")))\n",
    "\n",
    "    meses = {\n",
    "        1: 'Jan',\n",
    "        2: 'Fev',\n",
    "        3: 'Mar',\n",
    "        4: 'Abr',\n",
    "        5: 'Mai',\n",
    "        6: 'Jun',\n",
    "        7: 'Jul',\n",
    "        8: 'Ago',\n",
    "        9: 'Set',\n",
    "        10: 'Out',\n",
    "        11: 'Nov',\n",
    "        12: 'Dez',    \n",
    "    }\n",
    "\n",
    "    driver.find_element_by_xpath(\"//*[@id='\" + tipo_data + \"']\").click()\n",
    "    driver.find_element_by_xpath(\n",
    "        \"//*[@class='datepicker']//*[@class='datepicker-days']//*[@class='picker-switch']\").click()\n",
    "\n",
    "    # Get Year\n",
    "    year = driver.find_element_by_xpath(\n",
    "        \"//*[@class='datepicker']//*[@class='datepicker-months']//*[@class='picker-switch']\")\n",
    "    year_n = int(year.text)\n",
    "    while year.text != str(data.year):        \n",
    "        prev_year = driver.find_element_by_xpath(\n",
    "            \"//*[@class='datepicker']//*[@class='datepicker-months']//*[@class='prev']\").click()\n",
    "        year = driver.find_element_by_xpath(\n",
    "            \"//*[@class='datepicker']//*[@class='datepicker-months']//*[contains(@class, 'picker-switch')]\")\n",
    "        year_n = int(year.text)\n",
    "\n",
    "    # Get Month\n",
    "    months = driver.find_elements_by_xpath(\n",
    "        \"//*[@class='datepicker']//*[@class='datepicker-months']//*[contains(@class, 'month')]\")\n",
    "    for month in months:\n",
    "        if month.text == meses[data.month]:\n",
    "            month_n = int(list(meses.keys())[list(meses.values()).index(month.text)])\n",
    "            month.click()\n",
    "            break\n",
    "\n",
    "    # Get Days\n",
    "    days = driver.find_elements_by_xpath(\n",
    "        \"//*[@class='datepicker-days']//*[contains(@class, 'day')]\")\n",
    "    for day in days:\n",
    "        if day.text == str(data.day):\n",
    "            day_n = int(day.text)\n",
    "            day.click()\n",
    "            break\n",
    "    \n",
    "    # Message\n",
    "    if date(year_n, month_n, day_n) == data:\n",
    "        print('> {} {} definida'.format(\n",
    "            tipo_data.replace('Data', 'Data '),\n",
    "            data.strftime('%d.%m.%Y')))\n",
    "    else:\n",
    "        print('> Deu ruim!')\n",
    "    \n",
    "    time.sleep(1)\n",
    "    return"
   ]
  },
  {
   "cell_type": "code",
   "execution_count": null,
   "metadata": {},
   "outputs": [],
   "source": [
    "def set_both_dates(startdate, enddate):\n",
    "    set_date('DataInicial', startdate)\n",
    "    set_date('DataFinal', enddate)"
   ]
  },
  {
   "cell_type": "markdown",
   "metadata": {},
   "source": [
    "<br>\n",
    "\n",
    "## Set Download"
   ]
  },
  {
   "cell_type": "code",
   "execution_count": null,
   "metadata": {},
   "outputs": [],
   "source": [
    "def set_download_file(directory, ponto, startdate, enddate):    \n",
    "    # Define o novo nome\n",
    "    filename_new = '{} {} {}.xlsx'.format(\n",
    "        ponto,\n",
    "        startdate.strftime('%Y-%m-%d'),\n",
    "        enddate.strftime('%Y-%m-%d'))\n",
    "\n",
    "    # Clica para Gerar Planilha\n",
    "    time.sleep(1)\n",
    "    WebDriverWait(driver, 30).until(EC.presence_of_element_located(\n",
    "        (By.XPATH, \"//*[@class='btn btn-primary']\"))).click()\n",
    "    time.sleep(3)\n",
    "    \n",
    "    # Procura mensagem\n",
    "    try:\n",
    "        msg = driver.find_element_by_xpath(\"//*[@class='field-validation-error alert alert-danger']\").text\n",
    "    except:\n",
    "        msg = ''\n",
    "    \n",
    "    if msg == 'Não há informações para o ponto e período selecionados':\n",
    "        # Clica em Voltar\n",
    "        driver.find_element_by_xpath(\"//*[@class='btn btn-default']\").click()\n",
    "        print('>> {}: {} - {}'.format(\n",
    "            msg,\n",
    "            startdate.strftime('%d.%m.%Y'),\n",
    "            enddate.strftime('%d.%m.%Y')))\n",
    "        \n",
    "    # Faz o download e renomeia\n",
    "    elif msg == '':\n",
    "        # Artificio para ver se já voltou para a opção da consulta\n",
    "        WebDriverWait(driver, 30).until(EC.presence_of_element_located(\n",
    "            (By.XPATH, \"//*[@aria-controls='gridConsulta']\")))\n",
    "        \n",
    "        # Se tem o arquivo\n",
    "        teste = os.path.isfile(os.path.join(directory, 'RelatorioQualidadeAguasSuperficiais.xlsx'))\n",
    "        while teste:\n",
    "            shutil.move(\n",
    "                max([os.path.join(directory, file) for file in os.listdir(directory)], key=os.path.getctime),\n",
    "                os.path.join(directory, filename_new))\n",
    "            time.sleep(1)\n",
    "            teste = os.path.isfile(os.path.join(directory, 'RelatorioQualidadeAguasSuperficiais.xlsx'))"
   ]
  },
  {
   "cell_type": "markdown",
   "metadata": {},
   "source": [
    "<br>\n",
    "\n",
    "## Loop Stations"
   ]
  },
  {
   "cell_type": "code",
   "execution_count": null,
   "metadata": {},
   "outputs": [],
   "source": [
    "def loop_stations(df, download_dir):\n",
    "    # Set Date Min\n",
    "    date_min = min(df['Data Início'])\n",
    "\n",
    "    # Loop\n",
    "    for index, row in df.iterrows():\n",
    "        # Define: Ponto\n",
    "        ponto_mon = row['Cód.Ponto']\n",
    "\n",
    "        # Define: Data Inicial\n",
    "        if pd.isnull(row['Data Início']):\n",
    "            startdate = date(date_min.year, 1, 1)\n",
    "\n",
    "        elif not(pd.isnull(row['Data Início'])):\n",
    "            startdate = date(row['Data Início'].year, 1, 1)\n",
    "\n",
    "        # Define: Data Final\n",
    "        if pd.isnull(row['Data Fim']):\n",
    "            enddate = date.today()\n",
    "\n",
    "        elif not(pd.isnull(row['Data Fim'])):            \n",
    "            enddate = date(row['Data Fim'].year, 12, 31)\n",
    "\n",
    "        # Message\n",
    "        print('{}: {} - {}'.format(ponto_mon, startdate.year, enddate.year))            \n",
    "\n",
    "        # Número de Anos\n",
    "        n_years = relativedelta(enddate, startdate).years\n",
    "\n",
    "        # New\n",
    "        limit_years = 4\n",
    "        for passo in range(0, math.ceil(n_years/5)):\n",
    "            # Define uma Data Final com avanço de X anos\n",
    "            enddate_loop = date((startdate + relativedelta(years=limit_years)).year, 12, 31)\n",
    "            if enddate_loop > enddate:\n",
    "                enddate_loop = enddate\n",
    "\n",
    "            # Seleciona o Ponto\n",
    "            set_ponto(ponto_mon)\n",
    "\n",
    "            # Definir Datas\n",
    "            set_both_dates(startdate, enddate_loop)\n",
    "\n",
    "            # Gerar Planilha\n",
    "            set_download_file(download_dir, ponto_mon, startdate, enddate_loop)\n",
    "\n",
    "            # Define uma Data Inicial com avanço de X anos\n",
    "            startdate = startdate + relativedelta(years=limit_years + 1)\n",
    "            time.sleep(3)"
   ]
  },
  {
   "cell_type": "markdown",
   "metadata": {},
   "source": [
    "<br>\n",
    "\n",
    "# Run"
   ]
  },
  {
   "cell_type": "markdown",
   "metadata": {},
   "source": [
    "<br>\n",
    "\n",
    "## Monta Tabela com Lista de Pontos de Monitoramento"
   ]
  },
  {
   "cell_type": "code",
   "execution_count": null,
   "metadata": {},
   "outputs": [],
   "source": [
    "driver = create_driver(os.getcwd())"
   ]
  },
  {
   "cell_type": "code",
   "execution_count": null,
   "metadata": {},
   "outputs": [],
   "source": [
    "go_login(credential)\n",
    "go_rel_superficiais()\n",
    "\n",
    "df = get_df()\n",
    "driver.quit()\n",
    "\n",
    "df"
   ]
  },
  {
   "cell_type": "markdown",
   "metadata": {},
   "source": [
    "<br>\n",
    "\n",
    "## Salva Tabela"
   ]
  },
  {
   "cell_type": "code",
   "execution_count": null,
   "metadata": {},
   "outputs": [],
   "source": [
    "df.to_csv(\n",
    "    os.path.join('data', 'tab_pontos_monitoramento.csv'),\n",
    "    index=False\n",
    ")"
   ]
  },
  {
   "cell_type": "markdown",
   "metadata": {},
   "source": [
    "<br>\n",
    "\n",
    "## Individual"
   ]
  },
  {
   "cell_type": "code",
   "execution_count": null,
   "metadata": {},
   "outputs": [],
   "source": [
    "# Cria driver com 'download path' definido\n",
    "download_dir = os.path.join(os.getcwd(), 'data', 'A')\n",
    "driver = create_driver(download_dir)\n",
    "\n",
    "# Faz o login e vai para Relatório de Águas Superficiais\n",
    "go_login(credential)\n",
    "go_rel_superficiais()\n",
    "\n",
    "# Escolhe um Ponto de Monitoramento\n",
    "cod_ponto = 'DADO02600' # Deu erro em ABCA02300\n",
    "set_ponto(cod_ponto)\n",
    "\n",
    "# Escolhe uma data de Início e Fim\n",
    "startdate = date(2007, 1, 1)\n",
    "enddate = date(2011, 12, 31)\n",
    "set_both_dates(startdate, enddate)\n",
    "\n",
    "# Faz Download\n",
    "set_download_file(download_dir, cod_ponto, startdate, enddate)"
   ]
  },
  {
   "cell_type": "code",
   "execution_count": null,
   "metadata": {},
   "outputs": [],
   "source": [
    "driver.quit()"
   ]
  },
  {
   "cell_type": "markdown",
   "metadata": {},
   "source": [
    "<br>\n",
    "\n",
    "## Vários, por letra"
   ]
  },
  {
   "cell_type": "code",
   "execution_count": null,
   "metadata": {},
   "outputs": [],
   "source": [
    "df = pd.read_csv(\n",
    "    os.path.join('data', 'tab_pontos_monitoramento.csv'),\n",
    ")\n",
    "\n",
    "df"
   ]
  },
  {
   "cell_type": "code",
   "execution_count": null,
   "metadata": {},
   "outputs": [],
   "source": [
    "# Exclui um determinado ponto da lista\n",
    "#df = df[df['Cód.Ponto']!='SDOM04600']\n",
    "\n",
    "# Seleciona os pontos que começam com determinado conjunto de letras\n",
    "df = df[df['Cód.Ponto'].str.startswith('TURV')]\n",
    "df"
   ]
  },
  {
   "cell_type": "code",
   "execution_count": null,
   "metadata": {},
   "outputs": [],
   "source": [
    "list_letter = list(set(df['Cód.Ponto'].astype(str).str[0]))\n",
    "list_letter.sort()\n",
    "list_letter = list_letter[4:]\n",
    "list_letter"
   ]
  },
  {
   "cell_type": "code",
   "execution_count": null,
   "metadata": {},
   "outputs": [],
   "source": [
    "for letter in list_letter:\n",
    "    # Cria Driver\n",
    "    download_dir = os.path.join(os.getcwd(), 'data', letter)\n",
    "    driver = create_driver(download_dir)\n",
    "    \n",
    "    # Seleciona tabela\n",
    "    df_letter = df[df['Cód.Ponto'].str.startswith(letter)]\n",
    "    print(df_letter.head(2))\n",
    "    \n",
    "    # Para cada letra, faz login!\n",
    "    go_login(credential)\n",
    "    go_rel_superficiais()\n",
    "    \n",
    "    # Loop\n",
    "    loop_stations(df_letter, download_dir)\n",
    "    \n",
    "    # Sair do Driver\n",
    "    driver.quit()"
   ]
  }
 ],
 "metadata": {
  "kernelspec": {
   "display_name": "Python [conda env:pablocarreira-py38] *",
   "language": "python",
   "name": "conda-env-pablocarreira-py38-py"
  },
  "language_info": {
   "codemirror_mode": {
    "name": "ipython",
    "version": 3
   },
   "file_extension": ".py",
   "mimetype": "text/x-python",
   "name": "python",
   "nbconvert_exporter": "python",
   "pygments_lexer": "ipython3",
   "version": "3.8.11"
  },
  "toc": {
   "base_numbering": 1,
   "nav_menu": {},
   "number_sections": true,
   "sideBar": true,
   "skip_h1_title": false,
   "title_cell": "Table of Contents",
   "title_sidebar": "Contents",
   "toc_cell": false,
   "toc_position": {
    "height": "calc(100% - 180px)",
    "left": "10px",
    "top": "150px",
    "width": "165px"
   },
   "toc_section_display": true,
   "toc_window_display": true
  },
  "toc-autonumbering": true
 },
 "nbformat": 4,
 "nbformat_minor": 4
}

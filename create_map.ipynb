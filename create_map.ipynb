{
 "cells": [
  {
   "cell_type": "markdown",
   "metadata": {
    "pycharm": {
     "name": "#%% md\n"
    }
   },
   "source": [
    "# Create Maps"
   ]
  },
  {
   "cell_type": "code",
   "execution_count": null,
   "metadata": {
    "pycharm": {
     "name": "#%%\n"
    }
   },
   "outputs": [],
   "source": [
    "import os\n",
    "import folium\n",
    "import pandas as pd\n",
    "import seaborn as sns\n",
    "import geopandas as gpd\n",
    "from shapely.geometry import Point\n",
    "from folium.plugins import FastMarkerCluster"
   ]
  },
  {
   "cell_type": "markdown",
   "metadata": {},
   "source": [
    "## **Dataframe** Analises"
   ]
  },
  {
   "cell_type": "code",
   "execution_count": null,
   "metadata": {
    "pycharm": {
     "name": "#%%\n"
    }
   },
   "outputs": [],
   "source": [
    "# Tabela Pontos de Monitoramento\n",
    "df = pd.read_csv(\n",
    "    os.path.join('data', 'tab_analises.csv'),\n",
    ")\n",
    "\n",
    "# Ajuste Dates\n",
    "df['data_coleta']          = pd.to_datetime(df['data_coleta'])\n",
    "df['hora_coleta']          = pd.to_datetime(df['hora_coleta'], format='%H:%M:%S').dt.time\n",
    "df['data_inicio_operacao'] = pd.to_datetime(df['data_inicio_operacao'])\n",
    "df['data_fim_operacao']    = pd.to_datetime(df['data_fim_operacao'])\n",
    "df['data_inicio_query']    = pd.to_datetime(df['data_inicio_query'])\n",
    "df['data_fim_query']       = pd.to_datetime(df['data_fim_query'])\n",
    "\n",
    "# Dtypes\n",
    "print(df.dtypes)\n",
    "\n",
    "# Results\n",
    "df.head()"
   ]
  },
  {
   "cell_type": "markdown",
   "metadata": {},
   "source": [
    "## Colunas"
   ]
  },
  {
   "cell_type": "code",
   "execution_count": null,
   "metadata": {},
   "outputs": [],
   "source": [
    "columns = list(df.columns)\n",
    "print(columns)\n",
    "columns = columns[0:4] + columns[11:]\n",
    "columns = columns[0:9] + columns[11:]\n",
    "columns"
   ]
  },
  {
   "cell_type": "markdown",
   "metadata": {},
   "source": [
    "## Group By"
   ]
  },
  {
   "cell_type": "code",
   "execution_count": null,
   "metadata": {
    "pycharm": {
     "name": "#%%\n"
    }
   },
   "outputs": [],
   "source": [
    "# Group\n",
    "df = pd.DataFrame(df.groupby(columns, dropna=False)['cod_ponto'].count())\n",
    "df = df.rename(columns=lambda x: x.replace('cod_ponto', 'n_amostras'))\n",
    "df = df.reset_index()\n",
    "\n",
    "# Seleciona os que tem coordenadas\n",
    "df = df[(df['longitude_dd'] != 0) & (df['latitude_dd'] != 0)]\n",
    "\n",
    "# Results\n",
    "df"
   ]
  },
  {
   "cell_type": "markdown",
   "metadata": {},
   "source": [
    "## Cria *Geodataframe*"
   ]
  },
  {
   "cell_type": "code",
   "execution_count": null,
   "metadata": {
    "pycharm": {
     "name": "#%%\n"
    }
   },
   "outputs": [],
   "source": [
    "# Create Geometry\n",
    "geometry = [Point(xy) for xy in zip(df['longitude_dd'], df['latitude_dd'])]\n",
    "\n",
    "# Create Geodataframe\n",
    "gdf = gpd.GeoDataFrame(\n",
    "    df,\n",
    "    crs='EPSG:4326',\n",
    "    geometry=geometry\n",
    ")"
   ]
  },
  {
   "cell_type": "code",
   "execution_count": null,
   "metadata": {
    "pycharm": {
     "name": "#%%\n"
    }
   },
   "outputs": [],
   "source": [
    "# Transform Coordenate and Format\n",
    "gjson = gdf.to_crs(epsg='4326').to_json()"
   ]
  },
  {
   "cell_type": "code",
   "execution_count": null,
   "metadata": {
    "pycharm": {
     "name": "#%%\n"
    }
   },
   "outputs": [],
   "source": [
    "# Cria o mapa\n",
    "m = folium.Map(\n",
    "    location=[-23.9619271,-46.3427499],\n",
    "    zoom_start=12,\n",
    ")\n",
    "\n",
    "callback = (\n",
    "    'function (row) {'\n",
    "    'var circle = L.circle(new L.LatLng(row[0], row[1]), {color: \"red\",  radius: 10000});'\n",
    "    'return circle};'\n",
    ")\n",
    "\n",
    "m.add_child(\n",
    "    FastMarkerCluster(\n",
    "        df[['latitude_dd', 'longitude_dd']].values.tolist(),\n",
    "        #callback=callback,\n",
    "    )\n",
    ")\n",
    "\n",
    "# add all the point from the file to the map object using FastMarkerCluster\n",
    "m.add_child(FastMarkerCluster(df['latitude_dd'], df['longitude_dd']))\n",
    "# save the map\n",
    "#m.save(\"save_file.html\")\n",
    "m"
   ]
  },
  {
   "cell_type": "code",
   "execution_count": null,
   "metadata": {
    "pycharm": {
     "name": "#%%\n"
    }
   },
   "outputs": [],
   "source": [
    "# Cria o mapa\n",
    "m = folium.Map(\n",
    "    location=[-23.9619271,-46.3427499],\n",
    "    zoom_start=12,\n",
    "    #width=767,\n",
    "    #height=460,\n",
    ")"
   ]
  },
  {
   "cell_type": "code",
   "execution_count": null,
   "metadata": {
    "pycharm": {
     "name": "#%%\n"
    }
   },
   "outputs": [],
   "source": [
    "shp = folium.features.GeoJson(gjson)\n",
    "m.add_child(shp)\n",
    "m.fit_bounds(m.get_bounds())"
   ]
  },
  {
   "cell_type": "code",
   "execution_count": null,
   "metadata": {
    "pycharm": {
     "name": "#%%\n"
    }
   },
   "outputs": [],
   "source": [
    "# Column with category\n",
    "col_categories = 'sistema_hidrico'\n",
    "\n",
    "# Set palette\n",
    "palette_polygon = 'Paired'\n",
    "\n",
    "# Get list of unique values\n",
    "categories = set(df[col_categories])\n",
    "categories = list(categories)\n",
    "categories.sort()\n",
    "\n",
    "# See the palette chosed\n",
    "pal = sns.color_palette(palette_polygon, n_colors=len(categories))\n",
    "\n",
    "# Set dictionary\n",
    "colors = dict(zip(categories, pal.as_hex()))"
   ]
  },
  {
   "cell_type": "code",
   "execution_count": null,
   "metadata": {
    "pycharm": {
     "name": "#%%\n"
    }
   },
   "outputs": [],
   "source": [
    "# Cria o mapa\n",
    "m = folium.Map(\n",
    "    location=[-23.9619271,-46.3427499],\n",
    "    zoom_start=12,\n",
    "    #width=767,\n",
    "    #height=460,\n",
    ")\n",
    "\n",
    "# Adiciona as diferentes empresas com cores por bairros\n",
    "for index, row in df.iterrows():\n",
    "    if row['sistema_hidrico'] in colors.keys():\n",
    "        folium.Marker(\n",
    "            location=[row['latitude_dd'], row['longitude_dd']],\n",
    "            #popup=row['sistema_hidrico'],\n",
    "            #tooltip=row['localizacao'],\n",
    "            #icon=folium.Icon(color=colors[row[col_categories]], icon='leaf')\n",
    "        ).add_to(m)\n",
    "\n",
    "os.makedirs('maps', exist_ok=True)\n",
    "m.save(os.path.join('maps', 'map.html'))\n",
    "# Apresenta o mapa\n",
    "#m"
   ]
  },
  {
   "cell_type": "markdown",
   "metadata": {},
   "source": [
    "## Results"
   ]
  },
  {
   "cell_type": "code",
   "execution_count": null,
   "metadata": {
    "pycharm": {
     "name": "#%%\n"
    }
   },
   "outputs": [],
   "source": [
    "# Save\n",
    "os.makedirs('maps', exist_ok=True)\n",
    "m.save(os.path.join('maps', 'map.html'))\n",
    "\n",
    "# Apresenta o mapa\n",
    "m"
   ]
  },
  {
   "cell_type": "code",
   "execution_count": null,
   "metadata": {},
   "outputs": [],
   "source": []
  },
  {
   "cell_type": "code",
   "execution_count": null,
   "metadata": {},
   "outputs": [],
   "source": []
  },
  {
   "cell_type": "code",
   "execution_count": null,
   "metadata": {},
   "outputs": [],
   "source": []
  },
  {
   "cell_type": "code",
   "execution_count": null,
   "metadata": {},
   "outputs": [],
   "source": []
  },
  {
   "cell_type": "markdown",
   "metadata": {},
   "source": [
    "## Outros"
   ]
  },
  {
   "cell_type": "code",
   "execution_count": null,
   "metadata": {
    "pycharm": {
     "name": "#%%\n"
    }
   },
   "outputs": [],
   "source": [
    "# Dictonary to Rename\n",
    "dict_columns = {\n",
    "    'Cód.Ponto'   : 'cod_ponto',\n",
    "    'Sist.Hidrico': 'sistema_hidrico',\n",
    "    'Localização' : 'localizacao',\n",
    "    'Data Início' : 'data_inicio',\n",
    "    'Data Fim'    : 'data_fim',\n",
    "    'Município'   : 'municipio',\n",
    "}\n",
    "\n",
    "# Rename e Reorder\n",
    "df = df.rename(columns=dict_columns)\n",
    "df = df[[v for k, v in dict_columns.items()]]\n",
    "\n",
    "# Columns\n",
    "print(list(df.columns))\n",
    "\n",
    "# Results\n",
    "df.head()"
   ]
  },
  {
   "cell_type": "code",
   "execution_count": null,
   "metadata": {},
   "outputs": [],
   "source": []
  }
 ],
 "metadata": {
  "interpreter": {
   "hash": "d4181b5ba52a8e4a66a816197e9f0b08db8a6f69ae1df649a595f0f30665110e"
  },
  "kernelspec": {
   "display_name": "Python 3.8.11 64-bit ('pablocarreira-py38': conda)",
   "name": "python3"
  },
  "language_info": {
   "codemirror_mode": {
    "name": "ipython",
    "version": 3
   },
   "file_extension": ".py",
   "mimetype": "text/x-python",
   "name": "python",
   "nbconvert_exporter": "python",
   "pygments_lexer": "ipython3",
   "version": "3.8.11"
  },
  "pycharm": {
   "stem_cell": {
    "cell_type": "raw",
    "metadata": {
     "collapsed": false
    },
    "source": [
     "\n"
    ]
   }
  }
 },
 "nbformat": 4,
 "nbformat_minor": 2
}
